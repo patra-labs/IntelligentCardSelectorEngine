{
 "cells": [
  {
   "cell_type": "code",
   "execution_count": 3,
   "id": "b5e282bb",
   "metadata": {},
   "outputs": [
    {
     "name": "stdout",
     "output_type": "stream",
     "text": [
      "Collecting pdfplumber\n",
      "  Downloading pdfplumber-0.11.7-py3-none-any.whl.metadata (42 kB)\n",
      "Collecting pdfminer.six==20250506 (from pdfplumber)\n",
      "  Downloading pdfminer_six-20250506-py3-none-any.whl.metadata (4.2 kB)\n",
      "Collecting Pillow>=9.1 (from pdfplumber)\n",
      "  Downloading pillow-11.3.0-cp313-cp313-win_amd64.whl.metadata (9.2 kB)\n",
      "Collecting pypdfium2>=4.18.0 (from pdfplumber)\n",
      "  Downloading pypdfium2-4.30.0-py3-none-win_amd64.whl.metadata (48 kB)\n",
      "Collecting charset-normalizer>=2.0.0 (from pdfminer.six==20250506->pdfplumber)\n",
      "  Downloading charset_normalizer-3.4.3-cp313-cp313-win_amd64.whl.metadata (37 kB)\n",
      "Collecting cryptography>=36.0.0 (from pdfminer.six==20250506->pdfplumber)\n",
      "  Downloading cryptography-46.0.1-cp311-abi3-win_amd64.whl.metadata (5.7 kB)\n",
      "Collecting cffi>=2.0.0 (from cryptography>=36.0.0->pdfminer.six==20250506->pdfplumber)\n",
      "  Downloading cffi-2.0.0-cp313-cp313-win_amd64.whl.metadata (2.6 kB)\n",
      "Collecting pycparser (from cffi>=2.0.0->cryptography>=36.0.0->pdfminer.six==20250506->pdfplumber)\n",
      "  Downloading pycparser-2.23-py3-none-any.whl.metadata (993 bytes)\n",
      "Downloading pdfplumber-0.11.7-py3-none-any.whl (60 kB)\n",
      "Downloading pdfminer_six-20250506-py3-none-any.whl (5.6 MB)\n",
      "   ---------------------------------------- 0.0/5.6 MB ? eta -:--:--\n",
      "   --- ------------------------------------ 0.5/5.6 MB 3.0 MB/s eta 0:00:02\n",
      "   --------- ------------------------------ 1.3/5.6 MB 3.4 MB/s eta 0:00:02\n",
      "   -------------- ------------------------- 2.1/5.6 MB 3.6 MB/s eta 0:00:01\n",
      "   ---------------------- ----------------- 3.1/5.6 MB 3.9 MB/s eta 0:00:01\n",
      "   --------------------------- ------------ 3.9/5.6 MB 3.8 MB/s eta 0:00:01\n",
      "   ----------------------------------- ---- 5.0/5.6 MB 3.9 MB/s eta 0:00:01\n",
      "   ---------------------------------------- 5.6/5.6 MB 3.9 MB/s  0:00:01\n",
      "Downloading charset_normalizer-3.4.3-cp313-cp313-win_amd64.whl (107 kB)\n",
      "Downloading cryptography-46.0.1-cp311-abi3-win_amd64.whl (3.5 MB)\n",
      "   ---------------------------------------- 0.0/3.5 MB ? eta -:--:--\n",
      "   -------- ------------------------------- 0.8/3.5 MB 3.8 MB/s eta 0:00:01\n",
      "   -------------------------- ------------- 2.4/3.5 MB 5.5 MB/s eta 0:00:01\n",
      "   -------------------------------------- - 3.4/3.5 MB 5.5 MB/s eta 0:00:01\n",
      "   ---------------------------------------- 3.5/3.5 MB 5.3 MB/s  0:00:00\n",
      "Downloading cffi-2.0.0-cp313-cp313-win_amd64.whl (183 kB)\n",
      "Downloading pillow-11.3.0-cp313-cp313-win_amd64.whl (7.0 MB)\n",
      "   ---------------------------------------- 0.0/7.0 MB ? eta -:--:--\n",
      "   ------ --------------------------------- 1.0/7.0 MB 5.3 MB/s eta 0:00:02\n",
      "   ------------ --------------------------- 2.1/7.0 MB 4.9 MB/s eta 0:00:01\n",
      "   ------------------ --------------------- 3.1/7.0 MB 5.1 MB/s eta 0:00:01\n",
      "   ------------------------ --------------- 4.2/7.0 MB 5.1 MB/s eta 0:00:01\n",
      "   ------------------------------ --------- 5.2/7.0 MB 5.0 MB/s eta 0:00:01\n",
      "   ------------------------------------ --- 6.3/7.0 MB 5.1 MB/s eta 0:00:01\n",
      "   ---------------------------------------- 7.0/7.0 MB 5.0 MB/s  0:00:01\n",
      "Downloading pypdfium2-4.30.0-py3-none-win_amd64.whl (2.9 MB)\n",
      "   ---------------------------------------- 0.0/2.9 MB ? eta -:--:--\n",
      "   ------------------ --------------------- 1.3/2.9 MB 6.0 MB/s eta 0:00:01\n",
      "   ------------------------------------ --- 2.6/2.9 MB 6.0 MB/s eta 0:00:01\n",
      "   ---------------------------------------- 2.9/2.9 MB 5.7 MB/s  0:00:00\n",
      "Downloading pycparser-2.23-py3-none-any.whl (118 kB)\n",
      "Installing collected packages: pypdfium2, pycparser, Pillow, charset-normalizer, cffi, cryptography, pdfminer.six, pdfplumber\n",
      "\n",
      "   ---------------------------------------- 0/8 [pypdfium2]\n",
      "   ---------------------------------------- 0/8 [pypdfium2]\n",
      "   ---------------------------------------- 0/8 [pypdfium2]\n",
      "   ---------------------------------------- 0/8 [pypdfium2]\n",
      "   ---------------------------------------- 0/8 [pypdfium2]\n",
      "   ----- ---------------------------------- 1/8 [pycparser]\n",
      "   ----- ---------------------------------- 1/8 [pycparser]\n",
      "   ----- ---------------------------------- 1/8 [pycparser]\n",
      "   ---------- ----------------------------- 2/8 [Pillow]\n",
      "   ---------- ----------------------------- 2/8 [Pillow]\n",
      "   ---------- ----------------------------- 2/8 [Pillow]\n",
      "   ---------- ----------------------------- 2/8 [Pillow]\n",
      "   ---------- ----------------------------- 2/8 [Pillow]\n",
      "   ---------- ----------------------------- 2/8 [Pillow]\n",
      "   ---------- ----------------------------- 2/8 [Pillow]\n",
      "   ---------- ----------------------------- 2/8 [Pillow]\n",
      "   ---------- ----------------------------- 2/8 [Pillow]\n",
      "   ---------- ----------------------------- 2/8 [Pillow]\n",
      "   ---------- ----------------------------- 2/8 [Pillow]\n",
      "   ---------- ----------------------------- 2/8 [Pillow]\n",
      "   --------------- ------------------------ 3/8 [charset-normalizer]\n",
      "   --------------- ------------------------ 3/8 [charset-normalizer]\n",
      "   --------------- ------------------------ 3/8 [charset-normalizer]\n",
      "   -------------------- ------------------- 4/8 [cffi]\n",
      "   -------------------- ------------------- 4/8 [cffi]\n",
      "   ------------------------- -------------- 5/8 [cryptography]\n",
      "   ------------------------- -------------- 5/8 [cryptography]\n",
      "   ------------------------- -------------- 5/8 [cryptography]\n",
      "   ------------------------- -------------- 5/8 [cryptography]\n",
      "   ------------------------- -------------- 5/8 [cryptography]\n",
      "   ------------------------- -------------- 5/8 [cryptography]\n",
      "   ------------------------- -------------- 5/8 [cryptography]\n",
      "   ------------------------- -------------- 5/8 [cryptography]\n",
      "   ------------------------- -------------- 5/8 [cryptography]\n",
      "   ------------------------------ --------- 6/8 [pdfminer.six]\n",
      "   ------------------------------ --------- 6/8 [pdfminer.six]\n",
      "   ------------------------------ --------- 6/8 [pdfminer.six]\n",
      "   ------------------------------ --------- 6/8 [pdfminer.six]\n",
      "   ------------------------------ --------- 6/8 [pdfminer.six]\n",
      "   ------------------------------ --------- 6/8 [pdfminer.six]\n",
      "   ----------------------------------- ---- 7/8 [pdfplumber]\n",
      "   ----------------------------------- ---- 7/8 [pdfplumber]\n",
      "   ----------------------------------- ---- 7/8 [pdfplumber]\n",
      "   ----------------------------------- ---- 7/8 [pdfplumber]\n",
      "   ---------------------------------------- 8/8 [pdfplumber]\n",
      "\n",
      "Successfully installed Pillow-11.3.0 cffi-2.0.0 charset-normalizer-3.4.3 cryptography-46.0.1 pdfminer.six-20250506 pdfplumber-0.11.7 pycparser-2.23 pypdfium2-4.30.0\n",
      "Note: you may need to restart the kernel to use updated packages.\n"
     ]
    },
    {
     "name": "stderr",
     "output_type": "stream",
     "text": [
      "  WARNING: The script pypdfium2.exe is installed in 'c:\\Users\\soumy\\AppData\\Local\\Programs\\Python\\Python313\\Scripts' which is not on PATH.\n",
      "  Consider adding this directory to PATH or, if you prefer to suppress this warning, use --no-warn-script-location.\n",
      "  WARNING: The script normalizer.exe is installed in 'c:\\Users\\soumy\\AppData\\Local\\Programs\\Python\\Python313\\Scripts' which is not on PATH.\n",
      "  Consider adding this directory to PATH or, if you prefer to suppress this warning, use --no-warn-script-location.\n",
      "  WARNING: The script pdfplumber.exe is installed in 'c:\\Users\\soumy\\AppData\\Local\\Programs\\Python\\Python313\\Scripts' which is not on PATH.\n",
      "  Consider adding this directory to PATH or, if you prefer to suppress this warning, use --no-warn-script-location.\n"
     ]
    }
   ],
   "source": [
    "pip install pdfplumber"
   ]
  },
  {
   "cell_type": "code",
   "execution_count": 2,
   "id": "b462591c",
   "metadata": {},
   "outputs": [],
   "source": [
    "import pdfplumber\n",
    "from pathlib import Path\n",
    "import json"
   ]
  },
  {
   "cell_type": "code",
   "execution_count": 3,
   "id": "132a56c5",
   "metadata": {},
   "outputs": [],
   "source": [
    "# Go one level up from Notebook/ → into Data/Cards\n",
    "BASE_FOLDER = Path(\"..\") / \"Data\" / \"Cards\""
   ]
  },
  {
   "cell_type": "code",
   "execution_count": 4,
   "id": "6ad5ef77",
   "metadata": {},
   "outputs": [
    {
     "name": "stdout",
     "output_type": "stream",
     "text": [
      "..\\Data\\Cards\\Kohls\\20250930\\Cashback.pdf\n",
      "..\\Data\\Cards\\Discover\\20250930\\Cashback.pdf\n",
      "..\\Data\\Cards\\Citi\\20250930\\Additional Document.pdf\n",
      "..\\Data\\Cards\\Citi\\20250930\\Cashback.pdf\n",
      "..\\Data\\Cards\\BOA Allegiant\\20250930\\Cashback.pdf\n",
      "..\\Data\\Cards\\Apple\\20250930\\Cashback.pdf\n",
      "..\\Data\\Cards\\Amex\\20250930\\Cashback.pdf\n"
     ]
    }
   ],
   "source": [
    "# List all PDFs\n",
    "for pdf_file in BASE_FOLDER.rglob(\"*.pdf\"):\n",
    "    print(pdf_file)"
   ]
  },
  {
   "cell_type": "code",
   "execution_count": 5,
   "id": "681532b9",
   "metadata": {},
   "outputs": [],
   "source": [
    "# Output folder (relative to Notebook/)\n",
    "OUTPUT_FOLDER = Path(\"..\") / \"output\"\n",
    "OUTPUT_FOLDER.mkdir(exist_ok=True)  # create folder if it doesn’t exist\n",
    "\n",
    "# JSONL file path\n",
    "JSONL_OUTPUT = OUTPUT_FOLDER / \"documents.jsonl\""
   ]
  },
  {
   "cell_type": "code",
   "execution_count": 6,
   "id": "58a5df84",
   "metadata": {},
   "outputs": [],
   "source": [
    "# Chunking parameters\n",
    "CHUNK_SIZE = 300\n",
    "CHUNK_OVERLAP = 100"
   ]
  },
  {
   "cell_type": "code",
   "execution_count": 7,
   "id": "c2f883d8",
   "metadata": {},
   "outputs": [],
   "source": [
    "def extract_text_by_page(pdf_path: Path):\n",
    "    \"\"\"Yield text page by page from a PDF file.\"\"\"\n",
    "    with pdfplumber.open(pdf_path) as pdf:\n",
    "        for page_num, page in enumerate(pdf.pages, start=1):\n",
    "            text = page.extract_text() or \"\"\n",
    "            yield page_num, text.strip()"
   ]
  },
  {
   "cell_type": "code",
   "execution_count": 8,
   "id": "5ff9d533",
   "metadata": {},
   "outputs": [],
   "source": [
    "def chunk_text(text, chunk_size=300, overlap=100):\n",
    "    \"\"\"Split text into overlapping chunks.\"\"\"\n",
    "    words = text.split()\n",
    "    chunks = []\n",
    "    for i in range(0, len(words), chunk_size - overlap):\n",
    "        chunk = \" \".join(words[i:i+chunk_size])\n",
    "        if chunk:  # skip empty\n",
    "            chunks.append(chunk)\n",
    "    return chunks\n"
   ]
  },
  {
   "cell_type": "code",
   "execution_count": 9,
   "id": "6e935c4f",
   "metadata": {},
   "outputs": [],
   "source": [
    "def main():\n",
    "    with open(JSONL_OUTPUT, \"w\", encoding=\"utf-8\") as f:\n",
    "        for pdf_file in BASE_FOLDER.rglob(\"*.pdf\"):\n",
    "            for page_num, page_text in extract_text_by_page(pdf_file):\n",
    "                if not page_text:\n",
    "                    continue\n",
    "\n",
    "                chunks = chunk_text(page_text, CHUNK_SIZE, CHUNK_OVERLAP)\n",
    "\n",
    "                for chunk_idx, chunk in enumerate(chunks):\n",
    "                    card_name = pdf_file.parents[1].name  # e.g. DiscoverIt\n",
    "                    date = pdf_file.parents[0].name       # e.g. 2025-09-01\n",
    "\n",
    "                    record = {\n",
    "                        \"card\": card_name,\n",
    "                        \"date\": date,\n",
    "                        \"filename\": pdf_file.name,\n",
    "                        \"path\": str(pdf_file.resolve()),\n",
    "                        \"page\": page_num,\n",
    "                        \"chunk_index\": chunk_idx,\n",
    "                        \"text\": chunk\n",
    "                    }\n",
    "                    f.write(json.dumps(record, ensure_ascii=False) + \"\\n\")\n",
    "\n",
    "    print(f\"✅ Extracted PDFs from {BASE_FOLDER}\")\n",
    "    print(f\"📄 JSONL saved to {JSONL_OUTPUT.resolve()}\")\n",
    "\n"
   ]
  },
  {
   "cell_type": "code",
   "execution_count": 10,
   "id": "16243f83",
   "metadata": {},
   "outputs": [
    {
     "name": "stderr",
     "output_type": "stream",
     "text": [
      "Could get FontBBox from font descriptor because None cannot be parsed as 4 floats\n",
      "Could get FontBBox from font descriptor because None cannot be parsed as 4 floats\n",
      "Cannot set gray stroke color because /'P133' is an invalid float value\n",
      "Cannot set gray non-stroke color because /'P133' is an invalid float value\n",
      "Cannot set gray stroke color because /'P153' is an invalid float value\n",
      "Cannot set gray non-stroke color because /'P153' is an invalid float value\n",
      "Cannot set gray stroke color because /'P13' is an invalid float value\n",
      "Cannot set gray non-stroke color because /'P13' is an invalid float value\n",
      "Cannot set gray stroke color because /'P14' is an invalid float value\n",
      "Cannot set gray non-stroke color because /'P14' is an invalid float value\n",
      "Cannot set gray stroke color because /'P15' is an invalid float value\n",
      "Cannot set gray non-stroke color because /'P15' is an invalid float value\n",
      "Cannot set gray stroke color because /'P16' is an invalid float value\n",
      "Cannot set gray non-stroke color because /'P16' is an invalid float value\n",
      "Cannot set gray stroke color because /'P17' is an invalid float value\n",
      "Cannot set gray non-stroke color because /'P17' is an invalid float value\n"
     ]
    },
    {
     "name": "stdout",
     "output_type": "stream",
     "text": [
      "✅ Extracted PDFs from ..\\Data\\Cards\n",
      "📄 JSONL saved to C:\\Users\\soumy\\OneDrive\\Documents\\IntelligentCardSelectorEngine\\output\\documents.jsonl\n"
     ]
    }
   ],
   "source": [
    "if __name__ == \"__main__\":\n",
    "    main()"
   ]
  }
 ],
 "metadata": {
  "kernelspec": {
   "display_name": "Python 3",
   "language": "python",
   "name": "python3"
  },
  "language_info": {
   "codemirror_mode": {
    "name": "ipython",
    "version": 3
   },
   "file_extension": ".py",
   "mimetype": "text/x-python",
   "name": "python",
   "nbconvert_exporter": "python",
   "pygments_lexer": "ipython3",
   "version": "3.13.7"
  }
 },
 "nbformat": 4,
 "nbformat_minor": 5
}
