{
 "cells": [
  {
   "cell_type": "code",
   "execution_count": 48,
   "id": "a740a835",
   "metadata": {},
   "outputs": [
    {
     "name": "stdout",
     "output_type": "stream",
     "text": [
      "Collecting google-generativeai\n",
      "  Downloading google_generativeai-0.8.5-py3-none-any.whl.metadata (3.9 kB)\n",
      "Collecting google-ai-generativelanguage==0.6.15 (from google-generativeai)\n",
      "  Downloading google_ai_generativelanguage-0.6.15-py3-none-any.whl.metadata (5.7 kB)\n",
      "Collecting google-api-core (from google-generativeai)\n",
      "  Downloading google_api_core-2.25.1-py3-none-any.whl.metadata (3.0 kB)\n",
      "Collecting google-api-python-client (from google-generativeai)\n",
      "  Downloading google_api_python_client-2.183.0-py3-none-any.whl.metadata (7.0 kB)\n",
      "Requirement already satisfied: google-auth>=2.15.0 in c:\\users\\soumy\\appdata\\local\\programs\\python\\python313\\lib\\site-packages (from google-generativeai) (2.41.0)\n",
      "Requirement already satisfied: protobuf in c:\\users\\soumy\\appdata\\local\\programs\\python\\python313\\lib\\site-packages (from google-generativeai) (6.32.1)\n",
      "Requirement already satisfied: pydantic in c:\\users\\soumy\\appdata\\local\\programs\\python\\python313\\lib\\site-packages (from google-generativeai) (2.11.9)\n",
      "Requirement already satisfied: tqdm in c:\\users\\soumy\\appdata\\local\\programs\\python\\python313\\lib\\site-packages (from google-generativeai) (4.67.1)\n",
      "Requirement already satisfied: typing-extensions in c:\\users\\soumy\\appdata\\local\\programs\\python\\python313\\lib\\site-packages (from google-generativeai) (4.15.0)\n",
      "Collecting proto-plus<2.0.0dev,>=1.22.3 (from google-ai-generativelanguage==0.6.15->google-generativeai)\n",
      "  Downloading proto_plus-1.26.1-py3-none-any.whl.metadata (2.2 kB)\n",
      "Collecting protobuf (from google-generativeai)\n",
      "  Downloading protobuf-5.29.5-cp310-abi3-win_amd64.whl.metadata (592 bytes)\n",
      "Requirement already satisfied: googleapis-common-protos<2.0.0,>=1.56.2 in c:\\users\\soumy\\appdata\\local\\programs\\python\\python313\\lib\\site-packages (from google-api-core->google-generativeai) (1.70.0)\n",
      "Requirement already satisfied: requests<3.0.0,>=2.18.0 in c:\\users\\soumy\\appdata\\local\\programs\\python\\python313\\lib\\site-packages (from google-api-core->google-generativeai) (2.32.5)\n",
      "Requirement already satisfied: grpcio<2.0.0,>=1.33.2 in c:\\users\\soumy\\appdata\\local\\programs\\python\\python313\\lib\\site-packages (from google-api-core[grpc]!=2.0.*,!=2.1.*,!=2.10.*,!=2.2.*,!=2.3.*,!=2.4.*,!=2.5.*,!=2.6.*,!=2.7.*,!=2.8.*,!=2.9.*,<3.0.0dev,>=1.34.1->google-ai-generativelanguage==0.6.15->google-generativeai) (1.75.1)\n",
      "Collecting grpcio-status<2.0.0,>=1.33.2 (from google-api-core[grpc]!=2.0.*,!=2.1.*,!=2.10.*,!=2.2.*,!=2.3.*,!=2.4.*,!=2.5.*,!=2.6.*,!=2.7.*,!=2.8.*,!=2.9.*,<3.0.0dev,>=1.34.1->google-ai-generativelanguage==0.6.15->google-generativeai)\n",
      "  Downloading grpcio_status-1.75.1-py3-none-any.whl.metadata (1.1 kB)\n",
      "Requirement already satisfied: cachetools<7.0,>=2.0.0 in c:\\users\\soumy\\appdata\\local\\programs\\python\\python313\\lib\\site-packages (from google-auth>=2.15.0->google-generativeai) (6.2.0)\n",
      "Requirement already satisfied: pyasn1-modules>=0.2.1 in c:\\users\\soumy\\appdata\\local\\programs\\python\\python313\\lib\\site-packages (from google-auth>=2.15.0->google-generativeai) (0.4.2)\n",
      "Requirement already satisfied: rsa<5,>=3.1.4 in c:\\users\\soumy\\appdata\\local\\programs\\python\\python313\\lib\\site-packages (from google-auth>=2.15.0->google-generativeai) (4.9.1)\n",
      "INFO: pip is looking at multiple versions of grpcio-status to determine which version is compatible with other requirements. This could take a while.\n",
      "  Downloading grpcio_status-1.75.0-py3-none-any.whl.metadata (1.1 kB)\n",
      "  Downloading grpcio_status-1.74.0-py3-none-any.whl.metadata (1.1 kB)\n",
      "  Downloading grpcio_status-1.73.1-py3-none-any.whl.metadata (1.1 kB)\n",
      "  Downloading grpcio_status-1.73.0-py3-none-any.whl.metadata (1.1 kB)\n",
      "  Downloading grpcio_status-1.72.2-py3-none-any.whl.metadata (1.1 kB)\n",
      "  Downloading grpcio_status-1.72.1-py3-none-any.whl.metadata (1.1 kB)\n",
      "  Downloading grpcio_status-1.71.2-py3-none-any.whl.metadata (1.1 kB)\n",
      "Requirement already satisfied: charset_normalizer<4,>=2 in c:\\users\\soumy\\appdata\\local\\programs\\python\\python313\\lib\\site-packages (from requests<3.0.0,>=2.18.0->google-api-core->google-generativeai) (3.4.3)\n",
      "Requirement already satisfied: idna<4,>=2.5 in c:\\users\\soumy\\appdata\\local\\programs\\python\\python313\\lib\\site-packages (from requests<3.0.0,>=2.18.0->google-api-core->google-generativeai) (3.10)\n",
      "Requirement already satisfied: urllib3<3,>=1.21.1 in c:\\users\\soumy\\appdata\\local\\programs\\python\\python313\\lib\\site-packages (from requests<3.0.0,>=2.18.0->google-api-core->google-generativeai) (2.3.0)\n",
      "Requirement already satisfied: certifi>=2017.4.17 in c:\\users\\soumy\\appdata\\local\\programs\\python\\python313\\lib\\site-packages (from requests<3.0.0,>=2.18.0->google-api-core->google-generativeai) (2025.8.3)\n",
      "Requirement already satisfied: pyasn1>=0.1.3 in c:\\users\\soumy\\appdata\\local\\programs\\python\\python313\\lib\\site-packages (from rsa<5,>=3.1.4->google-auth>=2.15.0->google-generativeai) (0.6.1)\n",
      "Collecting httplib2<1.0.0,>=0.19.0 (from google-api-python-client->google-generativeai)\n",
      "  Downloading httplib2-0.31.0-py3-none-any.whl.metadata (2.2 kB)\n",
      "Collecting google-auth-httplib2<1.0.0,>=0.2.0 (from google-api-python-client->google-generativeai)\n",
      "  Downloading google_auth_httplib2-0.2.0-py2.py3-none-any.whl.metadata (2.2 kB)\n",
      "Collecting uritemplate<5,>=3.0.1 (from google-api-python-client->google-generativeai)\n",
      "  Downloading uritemplate-4.2.0-py3-none-any.whl.metadata (2.6 kB)\n",
      "Collecting pyparsing<4,>=3.0.4 (from httplib2<1.0.0,>=0.19.0->google-api-python-client->google-generativeai)\n",
      "  Downloading pyparsing-3.2.5-py3-none-any.whl.metadata (5.0 kB)\n",
      "Requirement already satisfied: annotated-types>=0.6.0 in c:\\users\\soumy\\appdata\\local\\programs\\python\\python313\\lib\\site-packages (from pydantic->google-generativeai) (0.7.0)\n",
      "Requirement already satisfied: pydantic-core==2.33.2 in c:\\users\\soumy\\appdata\\local\\programs\\python\\python313\\lib\\site-packages (from pydantic->google-generativeai) (2.33.2)\n",
      "Requirement already satisfied: typing-inspection>=0.4.0 in c:\\users\\soumy\\appdata\\local\\programs\\python\\python313\\lib\\site-packages (from pydantic->google-generativeai) (0.4.1)\n",
      "Requirement already satisfied: colorama in c:\\users\\soumy\\appdata\\roaming\\python\\python313\\site-packages (from tqdm->google-generativeai) (0.4.6)\n",
      "Downloading google_generativeai-0.8.5-py3-none-any.whl (155 kB)\n",
      "Downloading google_ai_generativelanguage-0.6.15-py3-none-any.whl (1.3 MB)\n",
      "   ---------------------------------------- 0.0/1.3 MB ? eta -:--:--\n",
      "   ----------------------- ---------------- 0.8/1.3 MB 4.6 MB/s eta 0:00:01\n",
      "   ---------------------------------------- 1.3/1.3 MB 4.5 MB/s  0:00:00\n",
      "Downloading google_api_core-2.25.1-py3-none-any.whl (160 kB)\n",
      "Downloading grpcio_status-1.71.2-py3-none-any.whl (14 kB)\n",
      "Downloading proto_plus-1.26.1-py3-none-any.whl (50 kB)\n",
      "Downloading protobuf-5.29.5-cp310-abi3-win_amd64.whl (434 kB)\n",
      "Downloading google_api_python_client-2.183.0-py3-none-any.whl (14.2 MB)\n",
      "   ---------------------------------------- 0.0/14.2 MB ? eta -:--:--\n",
      "   -- ------------------------------------- 1.0/14.2 MB 5.0 MB/s eta 0:00:03\n",
      "   ----- ---------------------------------- 2.1/14.2 MB 5.2 MB/s eta 0:00:03\n",
      "   -------- ------------------------------- 3.1/14.2 MB 5.1 MB/s eta 0:00:03\n",
      "   ----------- ---------------------------- 4.2/14.2 MB 5.0 MB/s eta 0:00:02\n",
      "   --------------- ------------------------ 5.5/14.2 MB 5.2 MB/s eta 0:00:02\n",
      "   ------------------ --------------------- 6.6/14.2 MB 5.2 MB/s eta 0:00:02\n",
      "   --------------------- ------------------ 7.6/14.2 MB 5.2 MB/s eta 0:00:02\n",
      "   ------------------------ --------------- 8.7/14.2 MB 5.2 MB/s eta 0:00:02\n",
      "   ---------------------------- ----------- 10.0/14.2 MB 5.3 MB/s eta 0:00:01\n",
      "   ------------------------------ --------- 11.0/14.2 MB 5.3 MB/s eta 0:00:01\n",
      "   --------------------------------- ------ 12.1/14.2 MB 5.3 MB/s eta 0:00:01\n",
      "   ------------------------------------- -- 13.4/14.2 MB 5.3 MB/s eta 0:00:01\n",
      "   ---------------------------------------- 14.2/14.2 MB 5.2 MB/s  0:00:02\n",
      "Downloading google_auth_httplib2-0.2.0-py2.py3-none-any.whl (9.3 kB)\n",
      "Downloading httplib2-0.31.0-py3-none-any.whl (91 kB)\n",
      "Downloading pyparsing-3.2.5-py3-none-any.whl (113 kB)\n",
      "Downloading uritemplate-4.2.0-py3-none-any.whl (11 kB)\n",
      "Installing collected packages: uritemplate, pyparsing, protobuf, proto-plus, httplib2, grpcio-status, google-auth-httplib2, google-api-core, google-api-python-client, google-ai-generativelanguage, google-generativeai\n",
      "\n",
      "   --- ------------------------------------  1/11 [pyparsing]\n",
      "   --- ------------------------------------  1/11 [pyparsing]\n",
      "   --- ------------------------------------  1/11 [pyparsing]\n",
      "  Attempting uninstall: protobuf\n",
      "   --- ------------------------------------  1/11 [pyparsing]\n",
      "    Found existing installation: protobuf 6.32.1\n",
      "   --- ------------------------------------  1/11 [pyparsing]\n",
      "    Uninstalling protobuf-6.32.1:\n",
      "   --- ------------------------------------  1/11 [pyparsing]\n",
      "      Successfully uninstalled protobuf-6.32.1\n",
      "   --- ------------------------------------  1/11 [pyparsing]\n",
      "   ------- --------------------------------  2/11 [protobuf]\n",
      "   ------- --------------------------------  2/11 [protobuf]\n",
      "   ------- --------------------------------  2/11 [protobuf]\n",
      "   ------- --------------------------------  2/11 [protobuf]\n",
      "   ------- --------------------------------  2/11 [protobuf]\n",
      "   ------- --------------------------------  2/11 [protobuf]\n",
      "   ------- --------------------------------  2/11 [protobuf]\n",
      "   ------- --------------------------------  2/11 [protobuf]\n",
      "   ------- --------------------------------  2/11 [protobuf]\n",
      "   ------- --------------------------------  2/11 [protobuf]\n",
      "   ------- --------------------------------  2/11 [protobuf]\n",
      "   ------- --------------------------------  2/11 [protobuf]\n",
      "   ------- --------------------------------  2/11 [protobuf]\n",
      "   ------- --------------------------------  2/11 [protobuf]\n",
      "   ------- --------------------------------  2/11 [protobuf]\n",
      "   ------- --------------------------------  2/11 [protobuf]\n",
      "   ------- --------------------------------  2/11 [protobuf]\n",
      "   ------- --------------------------------  2/11 [protobuf]\n",
      "   ------- --------------------------------  2/11 [protobuf]\n",
      "   ------- --------------------------------  2/11 [protobuf]\n",
      "   ------- --------------------------------  2/11 [protobuf]\n",
      "   ------- --------------------------------  2/11 [protobuf]\n",
      "   ------- --------------------------------  2/11 [protobuf]\n",
      "   ------- --------------------------------  2/11 [protobuf]\n",
      "   ------- --------------------------------  2/11 [protobuf]\n",
      "   ------- --------------------------------  2/11 [protobuf]\n",
      "   ------- --------------------------------  2/11 [protobuf]\n",
      "   ---------- -----------------------------  3/11 [proto-plus]\n",
      "   ---------- -----------------------------  3/11 [proto-plus]\n",
      "   ---------- -----------------------------  3/11 [proto-plus]\n",
      "   -------------- -------------------------  4/11 [httplib2]\n",
      "   --------------------- ------------------  6/11 [google-auth-httplib2]\n",
      "   ------------------------- --------------  7/11 [google-api-core]\n",
      "   ------------------------- --------------  7/11 [google-api-core]\n",
      "   ------------------------- --------------  7/11 [google-api-core]\n",
      "   ------------------------- --------------  7/11 [google-api-core]\n",
      "   ------------------------- --------------  7/11 [google-api-core]\n",
      "   ------------------------- --------------  7/11 [google-api-core]\n",
      "   ------------------------- --------------  7/11 [google-api-core]\n",
      "   ----------------------------- ----------  8/11 [google-api-python-client]\n",
      "   ----------------------------- ----------  8/11 [google-api-python-client]\n",
      "   ----------------------------- ----------  8/11 [google-api-python-client]\n",
      "   ----------------------------- ----------  8/11 [google-api-python-client]\n",
      "   ----------------------------- ----------  8/11 [google-api-python-client]\n",
      "   ----------------------------- ----------  8/11 [google-api-python-client]\n",
      "   ----------------------------- ----------  8/11 [google-api-python-client]\n",
      "   ----------------------------- ----------  8/11 [google-api-python-client]\n",
      "   ----------------------------- ----------  8/11 [google-api-python-client]\n",
      "   ------------------------------- -------  9/11 [google-ai-generativelanguage]\n",
      "   ------------------------------- -------  9/11 [google-ai-generativelanguage]\n",
      "   ------------------------------- -------  9/11 [google-ai-generativelanguage]\n",
      "   ------------------------------- -------  9/11 [google-ai-generativelanguage]\n",
      "   ------------------------------- -------  9/11 [google-ai-generativelanguage]\n",
      "   ------------------------------- -------  9/11 [google-ai-generativelanguage]\n",
      "   ------------------------------- -------  9/11 [google-ai-generativelanguage]\n",
      "   ------------------------------- -------  9/11 [google-ai-generativelanguage]\n",
      "   ------------------------------- -------  9/11 [google-ai-generativelanguage]\n",
      "   ------------------------------- -------  9/11 [google-ai-generativelanguage]\n",
      "   ------------------------------- -------  9/11 [google-ai-generativelanguage]\n",
      "   ------------------------------- -------  9/11 [google-ai-generativelanguage]\n",
      "   ------------------------------- -------  9/11 [google-ai-generativelanguage]\n",
      "   ------------------------------- -------  9/11 [google-ai-generativelanguage]\n",
      "   ------------------------------- -------  9/11 [google-ai-generativelanguage]\n",
      "   ------------------------------- -------  9/11 [google-ai-generativelanguage]\n",
      "   ------------------------------- -------  9/11 [google-ai-generativelanguage]\n",
      "   ------------------------------- -------  9/11 [google-ai-generativelanguage]\n",
      "   ------------------------------- -------  9/11 [google-ai-generativelanguage]\n",
      "   ------------------------------- -------  9/11 [google-ai-generativelanguage]\n",
      "   ------------------------------- -------  9/11 [google-ai-generativelanguage]\n",
      "   ------------------------------- -------  9/11 [google-ai-generativelanguage]\n",
      "   ------------------------------- -------  9/11 [google-ai-generativelanguage]\n",
      "   ------------------------------- -------  9/11 [google-ai-generativelanguage]\n",
      "   ------------------------------- -------  9/11 [google-ai-generativelanguage]\n",
      "   ------------------------------- -------  9/11 [google-ai-generativelanguage]\n",
      "   ------------------------------- -------  9/11 [google-ai-generativelanguage]\n",
      "   ------------------------------- -------  9/11 [google-ai-generativelanguage]\n",
      "   ------------------------------- -------  9/11 [google-ai-generativelanguage]\n",
      "   ------------------------------- -------  9/11 [google-ai-generativelanguage]\n",
      "   ------------------------------- -------  9/11 [google-ai-generativelanguage]\n",
      "   ------------------------------- -------  9/11 [google-ai-generativelanguage]\n",
      "   ------------------------------- -------  9/11 [google-ai-generativelanguage]\n",
      "   ------------------------------- -------  9/11 [google-ai-generativelanguage]\n",
      "   ------------------------------- -------  9/11 [google-ai-generativelanguage]\n",
      "   ------------------------------- -------  9/11 [google-ai-generativelanguage]\n",
      "   ------------------------------- -------  9/11 [google-ai-generativelanguage]\n",
      "   ------------------------------- -------  9/11 [google-ai-generativelanguage]\n",
      "   ------------------------------- -------  9/11 [google-ai-generativelanguage]\n",
      "   ------------------------------- -------  9/11 [google-ai-generativelanguage]\n",
      "   ------------------------------- -------  9/11 [google-ai-generativelanguage]\n",
      "   ------------------------------------ --- 10/11 [google-generativeai]\n",
      "   ------------------------------------ --- 10/11 [google-generativeai]\n",
      "   ------------------------------------ --- 10/11 [google-generativeai]\n",
      "   ------------------------------------ --- 10/11 [google-generativeai]\n",
      "   ------------------------------------ --- 10/11 [google-generativeai]\n",
      "   ------------------------------------ --- 10/11 [google-generativeai]\n",
      "   ------------------------------------ --- 10/11 [google-generativeai]\n",
      "   ------------------------------------ --- 10/11 [google-generativeai]\n",
      "   ------------------------------------ --- 10/11 [google-generativeai]\n",
      "   ---------------------------------------- 11/11 [google-generativeai]\n",
      "\n",
      "Successfully installed google-ai-generativelanguage-0.6.15 google-api-core-2.25.1 google-api-python-client-2.183.0 google-auth-httplib2-0.2.0 google-generativeai-0.8.5 grpcio-status-1.71.2 httplib2-0.31.0 proto-plus-1.26.1 protobuf-5.29.5 pyparsing-3.2.5 uritemplate-4.2.0\n",
      "Note: you may need to restart the kernel to use updated packages.\n"
     ]
    },
    {
     "name": "stderr",
     "output_type": "stream",
     "text": [
      "  WARNING: Failed to remove contents in a temporary directory 'C:\\Users\\soumy\\AppData\\Local\\Programs\\Python\\Python313\\Lib\\site-packages\\google\\~upb'.\n",
      "  You can safely remove it manually.\n"
     ]
    }
   ],
   "source": [
    "pip install google-generativeai"
   ]
  },
  {
   "cell_type": "code",
   "execution_count": 4,
   "id": "e5314b39",
   "metadata": {},
   "outputs": [
    {
     "name": "stdout",
     "output_type": "stream",
     "text": [
      "Requirement already satisfied: python-dotenv in c:\\users\\soumy\\appdata\\local\\programs\\python\\python313\\lib\\site-packages (1.1.1)\n",
      "Note: you may need to restart the kernel to use updated packages.\n"
     ]
    }
   ],
   "source": [
    "pip install python-dotenv\n"
   ]
  },
  {
   "cell_type": "code",
   "execution_count": 33,
   "id": "a08a583a",
   "metadata": {},
   "outputs": [
    {
     "name": "stdout",
     "output_type": "stream",
     "text": [
      "Collecting ipywidgets\n",
      "  Downloading ipywidgets-8.1.7-py3-none-any.whl.metadata (2.4 kB)\n",
      "Requirement already satisfied: comm>=0.1.3 in c:\\users\\soumy\\appdata\\roaming\\python\\python313\\site-packages (from ipywidgets) (0.2.3)\n",
      "Requirement already satisfied: ipython>=6.1.0 in c:\\users\\soumy\\appdata\\roaming\\python\\python313\\site-packages (from ipywidgets) (9.6.0)\n",
      "Requirement already satisfied: traitlets>=4.3.1 in c:\\users\\soumy\\appdata\\roaming\\python\\python313\\site-packages (from ipywidgets) (5.14.3)\n",
      "Collecting widgetsnbextension~=4.0.14 (from ipywidgets)\n",
      "  Downloading widgetsnbextension-4.0.14-py3-none-any.whl.metadata (1.6 kB)\n",
      "Collecting jupyterlab_widgets~=3.0.15 (from ipywidgets)\n",
      "  Downloading jupyterlab_widgets-3.0.15-py3-none-any.whl.metadata (20 kB)\n",
      "Requirement already satisfied: colorama in c:\\users\\soumy\\appdata\\roaming\\python\\python313\\site-packages (from ipython>=6.1.0->ipywidgets) (0.4.6)\n",
      "Requirement already satisfied: decorator in c:\\users\\soumy\\appdata\\roaming\\python\\python313\\site-packages (from ipython>=6.1.0->ipywidgets) (5.2.1)\n",
      "Requirement already satisfied: ipython-pygments-lexers in c:\\users\\soumy\\appdata\\roaming\\python\\python313\\site-packages (from ipython>=6.1.0->ipywidgets) (1.1.1)\n",
      "Requirement already satisfied: jedi>=0.16 in c:\\users\\soumy\\appdata\\roaming\\python\\python313\\site-packages (from ipython>=6.1.0->ipywidgets) (0.19.2)\n",
      "Requirement already satisfied: matplotlib-inline in c:\\users\\soumy\\appdata\\roaming\\python\\python313\\site-packages (from ipython>=6.1.0->ipywidgets) (0.1.7)\n",
      "Requirement already satisfied: prompt_toolkit<3.1.0,>=3.0.41 in c:\\users\\soumy\\appdata\\roaming\\python\\python313\\site-packages (from ipython>=6.1.0->ipywidgets) (3.0.52)\n",
      "Requirement already satisfied: pygments>=2.4.0 in c:\\users\\soumy\\appdata\\roaming\\python\\python313\\site-packages (from ipython>=6.1.0->ipywidgets) (2.19.2)\n",
      "Requirement already satisfied: stack_data in c:\\users\\soumy\\appdata\\roaming\\python\\python313\\site-packages (from ipython>=6.1.0->ipywidgets) (0.6.3)\n",
      "Requirement already satisfied: wcwidth in c:\\users\\soumy\\appdata\\roaming\\python\\python313\\site-packages (from prompt_toolkit<3.1.0,>=3.0.41->ipython>=6.1.0->ipywidgets) (0.2.14)\n",
      "Requirement already satisfied: parso<0.9.0,>=0.8.4 in c:\\users\\soumy\\appdata\\roaming\\python\\python313\\site-packages (from jedi>=0.16->ipython>=6.1.0->ipywidgets) (0.8.5)\n",
      "Requirement already satisfied: executing>=1.2.0 in c:\\users\\soumy\\appdata\\roaming\\python\\python313\\site-packages (from stack_data->ipython>=6.1.0->ipywidgets) (2.2.1)\n",
      "Requirement already satisfied: asttokens>=2.1.0 in c:\\users\\soumy\\appdata\\roaming\\python\\python313\\site-packages (from stack_data->ipython>=6.1.0->ipywidgets) (3.0.0)\n",
      "Requirement already satisfied: pure-eval in c:\\users\\soumy\\appdata\\roaming\\python\\python313\\site-packages (from stack_data->ipython>=6.1.0->ipywidgets) (0.2.3)\n",
      "Downloading ipywidgets-8.1.7-py3-none-any.whl (139 kB)\n",
      "Downloading jupyterlab_widgets-3.0.15-py3-none-any.whl (216 kB)\n",
      "Downloading widgetsnbextension-4.0.14-py3-none-any.whl (2.2 MB)\n",
      "   ---------------------------------------- 0.0/2.2 MB ? eta -:--:--\n",
      "   -------------- ------------------------- 0.8/2.2 MB 3.9 MB/s eta 0:00:01\n",
      "   ---------------------------- ----------- 1.6/2.2 MB 3.8 MB/s eta 0:00:01\n",
      "   ---------------------------------------- 2.2/2.2 MB 3.7 MB/s  0:00:00\n",
      "Installing collected packages: widgetsnbextension, jupyterlab_widgets, ipywidgets\n",
      "\n",
      "   ------------- -------------------------- 1/3 [jupyterlab_widgets]\n",
      "   -------------------------- ------------- 2/3 [ipywidgets]\n",
      "   -------------------------- ------------- 2/3 [ipywidgets]\n",
      "   -------------------------- ------------- 2/3 [ipywidgets]\n",
      "   -------------------------- ------------- 2/3 [ipywidgets]\n",
      "   -------------------------- ------------- 2/3 [ipywidgets]\n",
      "   -------------------------- ------------- 2/3 [ipywidgets]\n",
      "   -------------------------- ------------- 2/3 [ipywidgets]\n",
      "   -------------------------- ------------- 2/3 [ipywidgets]\n",
      "   ---------------------------------------- 3/3 [ipywidgets]\n",
      "\n",
      "Successfully installed ipywidgets-8.1.7 jupyterlab_widgets-3.0.15 widgetsnbextension-4.0.14\n",
      "Note: you may need to restart the kernel to use updated packages.\n"
     ]
    }
   ],
   "source": [
    "pip install ipywidgets"
   ]
  },
  {
   "cell_type": "code",
   "execution_count": 1,
   "id": "5066c2f6",
   "metadata": {},
   "outputs": [],
   "source": [
    "import os\n",
    "from dotenv import load_dotenv\n",
    "import textwrap\n",
    "from pathlib import Path\n",
    "import chromadb\n",
    "from chromadb.utils import embedding_functions"
   ]
  },
  {
   "cell_type": "code",
   "execution_count": 2,
   "id": "c85e6239",
   "metadata": {},
   "outputs": [],
   "source": [
    "from sentence_transformers import SentenceTransformer"
   ]
  },
  {
   "cell_type": "code",
   "execution_count": 4,
   "id": "a9e140bb",
   "metadata": {},
   "outputs": [],
   "source": [
    "import google.generativeai as genai"
   ]
  },
  {
   "cell_type": "code",
   "execution_count": 6,
   "id": "ce64e39d",
   "metadata": {},
   "outputs": [
    {
     "data": {
      "text/plain": [
       "True"
      ]
     },
     "execution_count": 6,
     "metadata": {},
     "output_type": "execute_result"
    }
   ],
   "source": [
    "# Load variables from .env\n",
    "load_dotenv()"
   ]
  },
  {
   "cell_type": "code",
   "execution_count": 7,
   "id": "e7860b98",
   "metadata": {},
   "outputs": [],
   "source": [
    "genai.configure(api_key=os.getenv(\"GOOGLE_API_KEY\"))\n",
    "models = genai.GenerativeModel(\"gemini-2.5-flash\")"
   ]
  },
  {
   "cell_type": "code",
   "execution_count": 9,
   "id": "fc30642a",
   "metadata": {},
   "outputs": [],
   "source": [
    "from datetime import datetime\n",
    "today = datetime.now().strftime(\"%B %d, %Y\")"
   ]
  },
  {
   "cell_type": "code",
   "execution_count": null,
   "id": "350df700",
   "metadata": {},
   "outputs": [],
   "source": [
    "# List available models\n",
    "# for m in genai.list_models():\n",
    "#     print(m.name, \"supports:\", m.supported_generation_methods)"
   ]
  },
  {
   "cell_type": "code",
   "execution_count": null,
   "id": "dbf48416",
   "metadata": {},
   "outputs": [],
   "source": [
    "# response = models.generate_content(\"Write me a motivational quote about data science.\")\n",
    "# print(response.text)\n"
   ]
  },
  {
   "cell_type": "code",
   "execution_count": 10,
   "id": "b536aa9e",
   "metadata": {},
   "outputs": [],
   "source": [
    "# ---------------- SETTINGS ----------------\n",
    "CHROMA_DB_PATH = Path(\"..\") / \"output\" / \"chroma_store\"\n",
    "COLLECTION_NAME = \"card_docs\"\n",
    "EMBEDDING_MODEL_NAME = \"all-MiniLM-L6-v2\"\n",
    "N_RESULTS = 5\n",
    "TEXT_WIDTH = 80\n",
    "# ------------------------------------------"
   ]
  },
  {
   "cell_type": "code",
   "execution_count": 11,
   "id": "9f20d58c",
   "metadata": {},
   "outputs": [],
   "source": [
    "# Connect to Chroma\n",
    "client = chromadb.PersistentClient(path=str(CHROMA_DB_PATH))\n",
    "embedding_fn = embedding_functions.SentenceTransformerEmbeddingFunction(\n",
    "    model_name=EMBEDDING_MODEL_NAME\n",
    ")\n",
    "collection = client.get_or_create_collection(\n",
    "    name=COLLECTION_NAME,\n",
    "    embedding_function=embedding_fn\n",
    ")"
   ]
  },
  {
   "cell_type": "code",
   "execution_count": 15,
   "id": "4150f126",
   "metadata": {},
   "outputs": [],
   "source": [
    "def query_and_summarize(question: str, n_results: int = N_RESULTS, width: int = TEXT_WIDTH):\n",
    "    \"\"\"\n",
    "    Query Chroma, return top chunks with metadata, wrapped text, scores,\n",
    "    and generate a concise summary using OpenAI LLM.\n",
    "    \"\"\"\n",
    "    # query_embedding = embedding_fn.embed_query(question)\n",
    "\n",
    "    # # Ensure it is a list of floats\n",
    "    # if hasattr(query_embedding, \"tolist\"):  # e.g., numpy array\n",
    "    #     query_embedding = query_embedding.tolist()\n",
    "\n",
    "    results = collection.query(\n",
    "        query_texts=[question],\n",
    "        # query_embeddings=[query_embedding],\n",
    "        n_results=n_results,\n",
    "        include=[\"metadatas\", \"documents\", \"distances\"]\n",
    "    )\n",
    "\n",
    "    # Wrap text and show relevance scores\n",
    "    combined_text = \"\"\n",
    "    for idx, doc in enumerate(results['documents'][0]):\n",
    "        metadata = results['metadatas'][0][idx]\n",
    "        score = 1 - results['distances'][0][idx]  # higher = more relevant\n",
    "        header = (\n",
    "            f\"[Card: {metadata['card']} | Date: {metadata['date']} | \"\n",
    "            f\"File: {metadata['filename']} | Page: {metadata['page']} | \"\n",
    "            f\"Chunk: {metadata['chunk_index']} | Score: {score:.3f}]\"\n",
    "        )\n",
    "        wrapped_text = textwrap.fill(doc, width=width)\n",
    "        combined_text += f\"{header}\\n{wrapped_text}\\n\\n\"\n",
    "    \n",
    "    # Define your prompt\n",
    "    summary_prompt = (\n",
    "        f\"Today's date is {today}.\\n\"\n",
    "        f\"Use this date as context when answering.\\n\\n\"\n",
    "        f\"Summarize the following information to answer the question:\\n\\n\"\n",
    "        f\"Question: {question}\\n\\n\"\n",
    "        f\"{combined_text}\\n\\n\"\n",
    "        f\"Provide a short, clear recommendation if applicable. Also point it as bullet points.\\n\"\n",
    "        f\"Not too many words\"\n",
    "        f\"If multiple cards are mentioned, order them based on relevance and keep it concise\"\n",
    "        )\n",
    "\n",
    "    # Create the model (Gemini 2.5 Flash)\n",
    "    model = genai.GenerativeModel(\"gemini-2.5-flash\")\n",
    "\n",
    "    # Generate response\n",
    "    response = model.generate_content(\n",
    "        [\n",
    "            {\"role\": \"model\", \"parts\": \"You summarize credit card benefits clearly and concisely.\"},\n",
    "            {\"role\": \"user\", \"parts\": summary_prompt}\n",
    "        ],\n",
    "        generation_config=genai.types.GenerationConfig(\n",
    "            max_output_tokens=300,\n",
    "            temperature=0.7\n",
    "        )\n",
    "    )\n",
    "\n",
    "    # Extract text\n",
    "    summary = response.text.strip()\n",
    "        \n",
    "    return combined_text, summary"
   ]
  },
  {
   "cell_type": "code",
   "execution_count": 16,
   "id": "6c5f4d2e",
   "metadata": {},
   "outputs": [
    {
     "name": "stdout",
     "output_type": "stream",
     "text": [
      "Based on the information provided, here's which card you should use for groceries to get the best cashback on October 01, 2025:\n",
      "\n",
      "*   **Amex:** Earns **3% cash back** on the first $6,000 of eligible purchases at U.S. supermarkets in a calendar year (then 1%). This excludes superstores, convenience stores, warehouse clubs, and meal-kit delivery services.\n",
      "*   **Apple Card:** Earns **2% Daily Cash** back when you use Apple Card with Apple Pay for grocery purchases. If Apple Pay is not accepted, you'll earn 1% Daily Cash.\n",
      "*   **Discover:** Earns **1% cash back** on groceries. The 5% cash back category for Grocery Stores and Wholesale Clubs for Discover was from April 1 to June 30, 2025, which has already passed.\n",
      "\n",
      "**Recommendation:**\n",
      "\n",
      "*   Use your **Amex card** for groceries to get the best cashback of **3%** (up to $6,000 in eligible purchases annually at U.S. supermarkets).\n"
     ]
    }
   ],
   "source": [
    "if __name__ == \"__main__\":\n",
    "    question = \"Which card should I use for groceries to get the best cashback?\"\n",
    "    combined_text, summary = query_and_summarize(question, 5, 300)\n",
    "    print(summary)"
   ]
  },
  {
   "cell_type": "code",
   "execution_count": 25,
   "id": "1771663f",
   "metadata": {},
   "outputs": [
    {
     "name": "stdout",
     "output_type": "stream",
     "text": [
      "Based on the information provided for October 01, 2025:\n",
      "\n",
      "*   **Amex:** Earns 3% cash back on the first $6,000 of eligible purchases at U.S. supermarkets in a calendar year (then 1%).\n",
      "*   **Discover:** The 5% cash back category for Grocery Stores and Wholesale Clubs ended on June 30, 2025. Therefore, you would earn 1% cash back on groceries with Discover.\n",
      "*   **Apple Card:** Offers up to 3% cash back, but it's typically 3% on Apple purchases and select merchants (like Nike and Walgreens when using Apple Pay), 2% with Apple Pay generally, and 1% with the physical card. Groceries are not explicitly mentioned as a 3% category.\n",
      "\n",
      "**Recommendation:**\n",
      "\n",
      "*   **Amex** will give you the best cashback for groceries at 3% (up to $6,000 annually).\n"
     ]
    }
   ],
   "source": [
    "if __name__ == \"__main__\":\n",
    "    question = \"Which card should I use for groceries to get the best cashback?\"\n",
    "    combined_text, summary = query_and_summarize(question, 5, 300)\n",
    "    print(summary)"
   ]
  },
  {
   "cell_type": "code",
   "execution_count": 17,
   "id": "26824ae7",
   "metadata": {},
   "outputs": [
    {
     "name": "stdout",
     "output_type": "stream",
     "text": [
      "For the best cashback at Walmart:\n",
      "\n",
      "*   **Amex:** Use for online Walmart purchases (Walmart.com) to earn **3% cash back** (on the first $6,000 in a calendar year, then 1%). For in-store Walmart purchases, you will earn 1% cash back.\n",
      "*   **Discover:** For in-store Walmart purchases, you will earn **1% cash back**. The 5% cashback categories mentioned are not active for Walmart during October 2025.\n",
      "*   **Apple Card:** The specific cashback rate for Walmart is not clearly stated.\n"
     ]
    }
   ],
   "source": [
    "if __name__ == \"__main__\":\n",
    "    question = \"Which card should I use for Walmart to get the best cashback?\"\n",
    "    combined_text, summary = query_and_summarize(question, 5, 300)\n",
    "    print(summary)"
   ]
  },
  {
   "cell_type": "code",
   "execution_count": 18,
   "id": "70e2db2e",
   "metadata": {},
   "outputs": [
    {
     "name": "stdout",
     "output_type": "stream",
     "text": [
      "For the best cashback at Kohl's, you should use the:\n",
      "\n",
      "*   **Kohl’s Rewards® Visa:** Earns 7.5% back at Kohl's stores or Kohls.com.\n"
     ]
    }
   ],
   "source": [
    "if __name__ == \"__main__\":\n",
    "    question = \"Which card should I use for Kohl's to get the best cashback?\"\n",
    "    combined_text, summary = query_and_summarize(question, 5, 300)\n",
    "    print(summary)"
   ]
  },
  {
   "cell_type": "code",
   "execution_count": 19,
   "id": "4ccb446a",
   "metadata": {},
   "outputs": [
    {
     "name": "stdout",
     "output_type": "stream",
     "text": [
      "For the best cashback at Walgreens:\n",
      "\n",
      "*   **Apple Card:** Get 3% Daily Cash when using Apple Card with Apple Pay at Walgreens.\n",
      "    *   Exclusions apply: Not available at Sprint Express, independent health service providers (Walgreens Optical, Walgreens Hearing), or for orders made on third-party delivery apps.\n",
      "*   **Amex Card:** Walgreens would likely earn 1% cashback as it's not considered a supermarket by Amex.\n",
      "*   **Citi Card:** No information provided regarding cashback at Walgreens.\n"
     ]
    }
   ],
   "source": [
    "if __name__ == \"__main__\":\n",
    "    question = \"Which card should I use for Walgreens to get the best cashback?\"\n",
    "    combined_text, summary = query_and_summarize(question, 5, 300)\n",
    "    print(summary)"
   ]
  },
  {
   "cell_type": "code",
   "execution_count": 20,
   "id": "a42b562d",
   "metadata": {},
   "outputs": [
    {
     "name": "stdout",
     "output_type": "stream",
     "text": [
      "For buying bananas at a local grocery store:\n",
      "\n",
      "*   **Amex:** Earns 3% cash back on the first $6,000 of eligible purchases at U.S. supermarkets in a calendar year (then 1%).\n",
      "*   **Apple Card:** Offers unlimited Daily Cash back on all purchases (typically 1% with the physical card, potentially more for specific merchants or with Apple Pay, but not specified for general groceries).\n",
      "\n",
      "**Recommendation:**\n",
      "\n",
      "*   **Amex** for 3% cash back on supermarket purchases.\n"
     ]
    }
   ],
   "source": [
    "if __name__ == \"__main__\":\n",
    "    question = \"I am buying bananas at a local grocery store, which card to use?\"\n",
    "    combined_text, summary = query_and_summarize(question, 5, 300)\n",
    "    print(summary)"
   ]
  },
  {
   "cell_type": "code",
   "execution_count": 21,
   "id": "fe00d103",
   "metadata": {},
   "outputs": [
    {
     "name": "stdout",
     "output_type": "stream",
     "text": [
      "For your Allegiant flight from SFO to DFW, you should use the **BOA Allegiant Allways Rewards Visa® card**.\n",
      "\n",
      "Here's why:\n",
      "\n",
      "*   **Earn 3 points per $1 spent on Allegiant purchases** (including airfare).\n",
      "*   **Complimentary priority check-in and priority boarding** for you and everyone on your itinerary.\n",
      "*   **One Free Beverage** every time you fly Allegiant.\n"
     ]
    }
   ],
   "source": [
    "if __name__ == \"__main__\":\n",
    "    question = \"I am booking a Allegiant flight from SFO TO DFW, which card to use?\"\n",
    "    combined_text, summary = query_and_summarize(question, 5, 300)\n",
    "    print(summary)"
   ]
  },
  {
   "cell_type": "code",
   "execution_count": 22,
   "id": "877d132b",
   "metadata": {},
   "outputs": [
    {
     "name": "stdout",
     "output_type": "stream",
     "text": [
      "Based on the provided information, there is no specific benefit mentioned for using an Amex card for booking a Delta flight. The excerpts cover entertainment tickets, Send & Split features, Disney streaming credits, and general card terms, but not airline travel rewards or benefits.\n"
     ]
    }
   ],
   "source": [
    "if __name__ == \"__main__\":\n",
    "    question = \"I am booking a Delta flight from SFO TO DFW, which card to use?\"\n",
    "    combined_text, summary = query_and_summarize(question, 5, 300)\n",
    "    print(summary)"
   ]
  },
  {
   "cell_type": "code",
   "execution_count": 23,
   "id": "f71e9c66",
   "metadata": {},
   "outputs": [
    {
     "name": "stdout",
     "output_type": "stream",
     "text": [
      "Based on the information provided for October 01, 2025:\n",
      "\n",
      "*   **Costco Anywhere Visa® Card by Citi:** Earns 2% cash back on all other purchases from Costco and Costco.com.\n",
      "\n",
      "**Recommendation:**\n",
      "\n",
      "*   Use the **Costco Anywhere Visa® Card by Citi** to earn 2% cash back on your banana purchase at Costco.\n"
     ]
    }
   ],
   "source": [
    "if __name__ == \"__main__\":\n",
    "    question = \"I am buying bananas from Costco, which card to use?\"\n",
    "    combined_text, summary = query_and_summarize(question, 5, 300)\n",
    "    print(summary)"
   ]
  },
  {
   "cell_type": "code",
   "execution_count": 24,
   "id": "6bacc4e2",
   "metadata": {},
   "outputs": [
    {
     "name": "stdout",
     "output_type": "stream",
     "text": [
      "Based on the credit card benefits:\n",
      "\n",
      "*   **Costco (with Citi Costco Anywhere Visa Card):** You will earn **2% cash back** on your banana purchase.\n",
      "*   **Walmart (with Discover Card):** Purchases at Walmart are **not eligible** for Discover's 5% grocery store cashback. For the current quarter (October 1 - December 31, 2025), Discover's 5% categories are Amazon.com and Drug Stores, which do not apply to bananas. You would likely earn the standard 1% cash back.\n",
      "\n",
      "**Recommendation:**\n",
      "\n",
      "*   Buy bananas at **Costco** using your **Citi Costco Anywhere Visa Card** to earn 2% cash back.\n"
     ]
    }
   ],
   "source": [
    "if __name__ == \"__main__\":\n",
    "    question = \"I am buying bananas, where to buy Costco or Walmart ?\"\n",
    "    combined_text, summary = query_and_summarize(question, 5, 300)\n",
    "    print(summary)"
   ]
  },
  {
   "cell_type": "code",
   "execution_count": 26,
   "id": "1f0689fb",
   "metadata": {},
   "outputs": [
    {
     "name": "stdout",
     "output_type": "stream",
     "text": [
      "For maximum cashback on October 01, 2025:\n",
      "\n",
      "*   **Discover Card:**\n",
      "    *   Earn 5% cash back on milk purchased through **Amazon Fresh** (part of the Amazon.com category for Q4 2025, from 10/1/25 - 12/31/25). Remember to activate this quarterly bonus.\n",
      "*   **Amex Card:**\n",
      "    *   Earn 3% cash back at **U.S. supermarkets** (excluding superstores, convenience stores, and warehouse clubs) on the first $6,000 in eligible purchases per calendar year.\n"
     ]
    }
   ],
   "source": [
    "if __name__ == \"__main__\":\n",
    "    question = \"Where should I buy milk for maximum cashback?\"\n",
    "    combined_text, summary = query_and_summarize(question, 5, 300)\n",
    "    print(summary)"
   ]
  },
  {
   "cell_type": "code",
   "execution_count": 28,
   "id": "0b128a70",
   "metadata": {},
   "outputs": [
    {
     "name": "stdout",
     "output_type": "stream",
     "text": [
      "Based on the information provided, none of the listed cards explicitly mention trip delay insurance benefits.\n",
      "\n",
      "*   The Amex documents discuss benefits like Car Rental Loss and Damage Insurance and Purchase Protection, but not trip delay insurance.\n",
      "*   The BOA Allegiant document focuses on travel rewards, priority services, and a buy-one-get-one airfare benefit, but does not mention trip delay insurance.\n"
     ]
    }
   ],
   "source": [
    "if __name__ == \"__main__\":\n",
    "    question = \"Which cards have trip delay insurance benefits?, look into all cards\"\n",
    "    combined_text, summary = query_and_summarize(question, 5, 300)\n",
    "    print(summary)"
   ]
  },
  {
   "cell_type": "markdown",
   "id": "25042b73",
   "metadata": {},
   "source": []
  }
 ],
 "metadata": {
  "kernelspec": {
   "display_name": "Python 3",
   "language": "python",
   "name": "python3"
  },
  "language_info": {
   "codemirror_mode": {
    "name": "ipython",
    "version": 3
   },
   "file_extension": ".py",
   "mimetype": "text/x-python",
   "name": "python",
   "nbconvert_exporter": "python",
   "pygments_lexer": "ipython3",
   "version": "3.13.7"
  }
 },
 "nbformat": 4,
 "nbformat_minor": 5
}
